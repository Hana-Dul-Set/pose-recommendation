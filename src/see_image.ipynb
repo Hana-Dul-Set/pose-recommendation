{
 "cells": [
  {
   "cell_type": "code",
   "execution_count": 1,
   "metadata": {},
   "outputs": [],
   "source": [
    "image_names = [\"-2hmH6ZQ-_8.jpg\", \"-bVS0FaFs2Q.jpg\", \"-EjmYDwkIes.jpg\", \"-eo6pMeme-Y.jpg\", \"-GvnV3rgi_g.jpg\", \"-HxvkW4-IMo.jpg\", \"-JPsv53Ur8c.jpg\", \"-l4UyrM1Cnc.jpg\", \"-NBvSA6-OEQ.jpg\", \"-v5uni3m6m8.jpg\"]"
   ]
  },
  {
   "cell_type": "code",
   "execution_count": null,
   "metadata": {},
   "outputs": [],
   "source": []
  },
  {
   "cell_type": "code",
   "execution_count": 2,
   "metadata": {},
   "outputs": [],
   "source": [
    "import cv2\n",
    "\n",
    "image_dir = '../datas/all_images_resized/'\n",
    "image_size = (256,256)\n",
    "for i, image_name in enumerate(image_names):\n",
    "\n",
    "    img = cv2.imread(image_dir + image_name)\n",
    "    img = cv2.resize(img, image_size)\n",
    "    cv2.imshow(str(i), img)\n",
    "    cv2.waitKey(0)\n",
    "cv2.destroyAllWindows()"
   ]
  }
 ],
 "metadata": {
  "kernelspec": {
   "display_name": "env",
   "language": "python",
   "name": "python3"
  },
  "language_info": {
   "codemirror_mode": {
    "name": "ipython",
    "version": 3
   },
   "file_extension": ".py",
   "mimetype": "text/x-python",
   "name": "python",
   "nbconvert_exporter": "python",
   "pygments_lexer": "ipython3",
   "version": "3.7.9"
  },
  "orig_nbformat": 4
 },
 "nbformat": 4,
 "nbformat_minor": 2
}
