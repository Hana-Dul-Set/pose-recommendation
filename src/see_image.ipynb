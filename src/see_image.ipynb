{
 "cells": [
  {
   "cell_type": "code",
   "execution_count": 2,
   "metadata": {},
   "outputs": [],
   "source": [
    "image_names = [\n",
    "    '-2hmH6ZQ-_8.jpg',\n",
    "    '-bVS0FaFs2Q.jpg',\n",
    "    '-EjmYDwkIes.jpg',\n",
    "    '-eo6pMeme-Y.jpg',\n",
    "    '-GvnV3rgi_g.jpg',\n",
    "    '-HxvkW4-IMo.jpg',\n",
    "    '-JPsv53Ur8c.jpg',\n",
    "    '-l4UyrM1Cnc.jpg',\n",
    "    '-NBvSA6-OEQ.jpg',\n",
    "    '-v5uni3m6m8.jpg',\n",
    "]"
   ]
  },
  {
   "cell_type": "code",
   "execution_count": 8,
   "metadata": {},
   "outputs": [],
   "source": [
    "import cv2\n",
    "\n",
    "image_dir = '../datas/all_images_resized/'\n",
    "image_size = (256,256)\n",
    "for i, image_name in enumerate(image_names):\n",
    "\n",
    "    img = cv2.imread(image_dir + image_name)\n",
    "    img = cv2.resize(img, image_size)\n",
    "    cv2.imshow(str(i), img)\n",
    "    cv2.waitKey(0)\n",
    "cv2.destroyAllWindows()"
   ]
  }
 ],
 "metadata": {
  "kernelspec": {
   "display_name": "env",
   "language": "python",
   "name": "python3"
  },
  "language_info": {
   "codemirror_mode": {
    "name": "ipython",
    "version": 3
   },
   "file_extension": ".py",
   "mimetype": "text/x-python",
   "name": "python",
   "nbconvert_exporter": "python",
   "pygments_lexer": "ipython3",
   "version": "3.7.9"
  },
  "orig_nbformat": 4
 },
 "nbformat": 4,
 "nbformat_minor": 2
}
