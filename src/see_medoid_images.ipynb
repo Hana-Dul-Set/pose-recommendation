{
 "cells": [
  {
   "cell_type": "code",
   "execution_count": 4,
   "metadata": {},
   "outputs": [
    {
     "name": "stdout",
     "output_type": "stream",
     "text": [
      "Reading dataframe: ../datas/filtered_datas/vitpose_filtered_0927.csv...Done!\n",
      "Loading ../datas/cluster_results/kmedoids_pam_200_test_1010.json...Done!\n"
     ]
    }
   ],
   "source": [
    "import sys\n",
    "sys.path.append('C:/YJ/soma/pose-recommendation/src/')\n",
    "import json\n",
    "\n",
    "from clustering.KMedoidsResult import KMedoidsResult\n",
    "from clustering.KMeansResult import KMeansResult\n",
    "from clustering.Preprocessor import Preprocessor\n",
    "from clustering.AnglePreprocessor import AnglePreprocessor\n",
    "from clustering.Distances import distance\n",
    "from PoseFormatUtils import read_formatted_csv\n",
    "\n",
    "formatted_df = read_formatted_csv('../datas/filtered_datas/vitpose_filtered_0927.csv')\n",
    "\n",
    "\n",
    "\n",
    "result = KMedoidsResult(\"../datas/cluster_results/kmedoids_pam_200_test_1010.json\")\n",
    "#result = KMeansResult(\"../datas/cluster_results/kmedoids_angle_fasterpam_10_test_1010.json\")\n",
    "center_images = result.get_medoid_images()"
   ]
  },
  {
   "cell_type": "code",
   "execution_count": 5,
   "metadata": {},
   "outputs": [
    {
     "name": "stderr",
     "output_type": "stream",
     "text": [
      "200it [00:05, 39.93it/s]\n"
     ]
    },
    {
     "data": {
      "text/plain": [
       "True"
      ]
     },
     "execution_count": 5,
     "metadata": {},
     "output_type": "execute_result"
    }
   ],
   "source": [
    "import cv2\n",
    "import vis.cv2utils as cv2utils\n",
    "from tqdm import tqdm\n",
    "\n",
    "image_dir = '../datas/all_images_resized/'\n",
    "image_size = (256,256)\n",
    "\n",
    "image_per_row = 10\n",
    "groups = result.get_groups()\n",
    "\n",
    "rows = []\n",
    "for clusterid, group in tqdm(enumerate(groups)):\n",
    "    image_row = []\n",
    "    img = cv2.imread(image_dir + center_images[clusterid])\n",
    "    img = cv2.resize(img, image_size)\n",
    "    image_row.append(img)\n",
    "    for i, image_name in enumerate(group[:image_per_row-1]):\n",
    "        img = cv2.imread(image_dir + image_name)\n",
    "        img = cv2.resize(img, image_size)\n",
    "        image_row.append(img)\n",
    "\n",
    "    if image_per_row > len(image_row):\n",
    "        black = cv2utils.black_image(image_size)\n",
    "        for i in range(image_per_row - (len(image_row))):\n",
    "            image_row.append(black)\n",
    "\n",
    "    row = cv2.hconcat(image_row)\n",
    "    rows.append(row)\n",
    "\n",
    "final_image = cv2.vconcat(rows)\n",
    "cv2.imwrite('../datas/vis/kmedoids_pam_200_test_1010.jpg', final_image)\n"
   ]
  }
 ],
 "metadata": {
  "kernelspec": {
   "display_name": "env",
   "language": "python",
   "name": "python3"
  },
  "language_info": {
   "codemirror_mode": {
    "name": "ipython",
    "version": 3
   },
   "file_extension": ".py",
   "mimetype": "text/x-python",
   "name": "python",
   "nbconvert_exporter": "python",
   "pygments_lexer": "ipython3",
   "version": "3.7.9"
  }
 },
 "nbformat": 4,
 "nbformat_minor": 2
}
