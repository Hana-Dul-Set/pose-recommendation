{
 "cells": [
  {
   "cell_type": "code",
   "execution_count": 2,
   "metadata": {},
   "outputs": [
    {
     "name": "stdout",
     "output_type": "stream",
     "text": [
      "Reading dataframe: ../datas/filtered_datas/vitpose_filtered_0927.csv...Done!\n"
     ]
    }
   ],
   "source": [
    "from pyclustering.cluster.kmeans import kmeans, kmeans_visualizer\n",
    "from pyclustering.cluster.kmedoids import kmedoids\n",
    "from pyclustering.cluster.center_initializer import kmeans_plusplus_initializer\n",
    "from pyclustering.samples.definitions import FCPS_SAMPLES\n",
    "from pyclustering.utils import read_sample\n",
    "\n",
    "from PoseFormatUtils import read_formatted_csv\n",
    "\n",
    "df = read_formatted_csv('../datas/filtered_datas/vitpose_filtered_0927.csv')\n"
   ]
  },
  {
   "cell_type": "code",
   "execution_count": 3,
   "metadata": {},
   "outputs": [],
   "source": [
    "import vis.cv2utils as cv2utils\n",
    "import vis.pose as poseutils\n",
    "import cv2\n",
    "from vis.pose_format import coco25\n",
    "\n",
    "\n",
    "import json\n",
    "\n",
    "with open(\"../datas/cluster_results/kmeans_50test_0928.json\", \"r\") as st_json:\n",
    "    cluster_result = json.load(st_json)"
   ]
  },
  {
   "cell_type": "code",
   "execution_count": 5,
   "metadata": {},
   "outputs": [],
   "source": [
    "size = [512, 512]\n",
    "for centroid in cluster_result['medoid_indicies']:\n",
    "    item = centroid\n",
    "    keypoints = [item[i:i+3] for i in range(2, len(item), 3)]\n",
    "    keypoints[0] = [item[0], item[1], 1]\n",
    "\n",
    "    for i in range(1, len(coco25['parents'])):\n",
    "        keypoints[i][0] += keypoints[coco25['parents'][i]][0]\n",
    "        keypoints[i][1] += keypoints[coco25['parents'][i]][1]\n",
    "        keypoints[i][2] = 1 - keypoints[i][2]\n",
    "    keypoints = keypoints[:25]\n",
    "\n",
    "    image = cv2utils.black_image(size)\n",
    "    image = poseutils.render_keypoints(image, keypoints, score_threshhold=0.9)\n",
    "\n",
    "    cv2.imshow('image', image)\n",
    "    cv2.waitKey(0)\n",
    "    cv2.destroyAllWindows()"
   ]
  },
  {
   "cell_type": "code",
   "execution_count": 1,
   "metadata": {},
   "outputs": [
    {
     "ename": "NameError",
     "evalue": "name 'df' is not defined",
     "output_type": "error",
     "traceback": [
      "\u001b[1;31m---------------------------------------------------------------------------\u001b[0m",
      "\u001b[1;31mNameError\u001b[0m                                 Traceback (most recent call last)",
      "\u001b[1;32m~\\AppData\\Local\\Temp\\ipykernel_6084\\466696547.py\u001b[0m in \u001b[0;36m<module>\u001b[1;34m\u001b[0m\n\u001b[0;32m      3\u001b[0m \u001b[1;32mimport\u001b[0m \u001b[0mcv2\u001b[0m\u001b[1;33m\u001b[0m\u001b[1;33m\u001b[0m\u001b[0m\n\u001b[0;32m      4\u001b[0m \u001b[1;33m\u001b[0m\u001b[0m\n\u001b[1;32m----> 5\u001b[1;33m \u001b[0mitem\u001b[0m \u001b[1;33m=\u001b[0m \u001b[0mdf\u001b[0m\u001b[1;33m.\u001b[0m\u001b[0miloc\u001b[0m\u001b[1;33m[\u001b[0m\u001b[1;36m0\u001b[0m\u001b[1;33m]\u001b[0m\u001b[1;33m\u001b[0m\u001b[1;33m\u001b[0m\u001b[0m\n\u001b[0m\u001b[0;32m      6\u001b[0m \u001b[0mkeypoints\u001b[0m \u001b[1;33m=\u001b[0m \u001b[0mitem\u001b[0m\u001b[1;33m[\u001b[0m\u001b[1;34m'keypoints'\u001b[0m\u001b[1;33m]\u001b[0m\u001b[1;33m\u001b[0m\u001b[1;33m\u001b[0m\u001b[0m\n\u001b[0;32m      7\u001b[0m \u001b[0mname\u001b[0m \u001b[1;33m=\u001b[0m \u001b[0mitem\u001b[0m\u001b[1;33m[\u001b[0m\u001b[1;34m'name'\u001b[0m\u001b[1;33m]\u001b[0m\u001b[1;33m\u001b[0m\u001b[1;33m\u001b[0m\u001b[0m\n",
      "\u001b[1;31mNameError\u001b[0m: name 'df' is not defined"
     ]
    }
   ],
   "source": [
    "import vis.cv2utils as cv2utils\n",
    "import vis.pose as poseutils\n",
    "import cv2\n",
    "\n",
    "item = df.iloc[0]\n",
    "keypoints = item['keypoints']\n",
    "name = item['name']\n",
    "\n",
    "name = 'i_21959.jpg'\n",
    "keypoints = df[df['name']==name]['keypoints'].tolist()[0]\n",
    "\n",
    "\n",
    "image = cv2.imread('../datas/filtered_datas/images_vitpose_filtered_0927/'+name)\n",
    "image = poseutils.render_keypoints(image, keypoints)\n",
    "\n",
    "cv2.imshow('image', image)\n",
    "cv2.waitKey(0)\n",
    "cv2.destroyAllWindows()"
   ]
  }
 ],
 "metadata": {
  "kernelspec": {
   "display_name": "env",
   "language": "python",
   "name": "python3"
  },
  "language_info": {
   "codemirror_mode": {
    "name": "ipython",
    "version": 3
   },
   "file_extension": ".py",
   "mimetype": "text/x-python",
   "name": "python",
   "nbconvert_exporter": "python",
   "pygments_lexer": "ipython3",
   "version": "3.7.9"
  },
  "orig_nbformat": 4
 },
 "nbformat": 4,
 "nbformat_minor": 2
}
