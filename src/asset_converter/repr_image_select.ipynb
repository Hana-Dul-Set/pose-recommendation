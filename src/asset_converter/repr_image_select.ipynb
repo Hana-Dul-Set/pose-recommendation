{
 "cells": [
  {
   "cell_type": "code",
   "execution_count": 1,
   "metadata": {},
   "outputs": [
    {
     "name": "stdout",
     "output_type": "stream",
     "text": [
      "Reading dataframe: ../../datas/filtered_datas/vitpose_filtered_0927.csv...Done!\n"
     ]
    },
    {
     "name": "stderr",
     "output_type": "stream",
     "text": [
      "27462it [00:00, 31598.37it/s]\n",
      "27462it [01:27, 312.31it/s]\n"
     ]
    }
   ],
   "source": [
    "import sys\n",
    "sys.path.append('C:/YJ/soma/pose-recommendation/src/')\n",
    "import json\n",
    "\n",
    "from clustering.ResultController.ClosestImages import ClosestImages\n",
    "from clustering.Preprocessor import Preprocessor\n",
    "from clustering.Distances import distance\n",
    "from PoseFormatUtils import read_formatted_csv\n",
    "\n",
    "formatted_df = read_formatted_csv('../../datas/filtered_datas/vitpose_filtered_0927.csv')\n",
    "\n",
    "with open(\"../../datas/cluster_results/kmeans_50test_0928.json\", \"r\") as st_json:\n",
    "    cluster_result = json.load(st_json)\n",
    "\n",
    "preprocessor = Preprocessor(formatted_df)\n",
    "preprocessed_data = preprocessor.preprocess(existance_threshhold = 0.3)\n",
    "\n",
    "processor = ClosestImages(cluster_result, preprocessed_data, formatted_df)\n",
    "image_idxs = processor.get_closest_images(distance)"
   ]
  },
  {
   "cell_type": "code",
   "execution_count": 6,
   "metadata": {},
   "outputs": [],
   "source": [
    "import cv2\n",
    "\n",
    "image_dir = '../../datas/all_images_resized/'\n",
    "image_size = (256,256)\n",
    "for i, image_name in enumerate(image_idxs):\n",
    "\n",
    "    img = cv2.imread(image_dir + image_name)\n",
    "    img = cv2.resize(img, image_size)\n",
    "    cv2.imshow(str(i), img)\n",
    "    cv2.waitKey(0)\n",
    "cv2.destroyAllWindows()"
   ]
  },
  {
   "cell_type": "code",
   "execution_count": 8,
   "metadata": {},
   "outputs": [],
   "source": [
    "output_path = '../../datas/output_assets/centroid_images.json'\n",
    "\n",
    "\n",
    "with open(output_path, \"w\") as file:\n",
    "    json.dump(image_idxs, file)\n",
    "\n",
    "\n",
    "import os\n",
    "import shutil\n",
    "\n",
    "images_dir = '../../datas/all_images_resized/'\n",
    "target_dir = 'C:/YJ/soma/pose-recommendation/datas/intermediate_datas/silhouette_inputs/'\n",
    "for file_name in image_idxs:\n",
    "    shutil.copy(images_dir + file_name, target_dir + file_name)"
   ]
  }
 ],
 "metadata": {
  "kernelspec": {
   "display_name": "env",
   "language": "python",
   "name": "python3"
  },
  "language_info": {
   "codemirror_mode": {
    "name": "ipython",
    "version": 3
   },
   "file_extension": ".py",
   "mimetype": "text/x-python",
   "name": "python",
   "nbconvert_exporter": "python",
   "pygments_lexer": "ipython3",
   "version": "3.7.9"
  }
 },
 "nbformat": 4,
 "nbformat_minor": 2
}
