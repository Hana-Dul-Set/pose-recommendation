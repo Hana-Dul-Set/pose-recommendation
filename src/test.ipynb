{
 "cells": [
  {
   "cell_type": "code",
   "execution_count": 1,
   "metadata": {},
   "outputs": [
    {
     "name": "stdout",
     "output_type": "stream",
     "text": [
      "Reading dataframe: ../datas/formatted_pose_datas/alphapose_0924.csv...Done!\n"
     ]
    }
   ],
   "source": [
    "from PoseFormatUtils import read_csv\n",
    "df = read_csv('../datas/formatted_pose_datas/alphapose_0924.csv')"
   ]
  },
  {
   "cell_type": "code",
   "execution_count": null,
   "metadata": {},
   "outputs": [],
   "source": [
    "from PoseFilterer.PoseFilterer import PoseFilterer\n",
    "\n",
    "filterer = PoseFilterer(keypoint_existance_threshhold = 0.3)\n",
    "threshhold = 0.3\n",
    "filterer.must_have([0, 17, 18])\n",
    "filterer.have_one_of([6, 8])\n",
    "filterer.have_one_of([5, 7])\n",
    "filterer.bbox_range(0.05, 0.5)\n",
    "filtered_df = filterer.filter(df, verbose=True)\n",
    "filtered_df.to_csv(\"../datas/temp.csv\")"
   ]
  },
  {
   "cell_type": "code",
   "execution_count": 10,
   "metadata": {},
   "outputs": [],
   "source": []
  }
 ],
 "metadata": {
  "kernelspec": {
   "display_name": "env",
   "language": "python",
   "name": "python3"
  },
  "language_info": {
   "codemirror_mode": {
    "name": "ipython",
    "version": 3
   },
   "file_extension": ".py",
   "mimetype": "text/x-python",
   "name": "python",
   "nbconvert_exporter": "python",
   "pygments_lexer": "ipython3",
   "version": "3.9.12"
  },
  "orig_nbformat": 4
 },
 "nbformat": 4,
 "nbformat_minor": 2
}
